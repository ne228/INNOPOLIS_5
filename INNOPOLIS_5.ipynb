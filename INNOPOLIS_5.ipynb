{
 "cells": [
  {
   "cell_type": "markdown",
   "metadata": {},
   "source": [
    "# Промежуточная аттестация по сетям искусcтвенных нейронов.\n",
    "## Задание\n",
    "\n",
    "**Ваша задача - создать классификатор изображений с помощью Keras и сверточных нейронных сетей для набора данных Fashion MNIST. Этот набор данных включает 10 меток с разными типами одежды с изображениями 28 на 28 * в оттенках серого *. Имеется обучающий набор из 60 000 изображений и 10 000 тестовых изображений.**\n",
    "\n",
    "Описание классов\n",
    "\n",
    "    Label\tDescription\n",
    "    0\t    T-shirt/top\n",
    "    1\t    Trouser\n",
    "    2\t    Pullover\n",
    "    3\t    Dress\n",
    "    4\t    Coat\n",
    "    5\t    Sandal\n",
    "    6\t    Shirt\n",
    "    7\t    Sneaker\n",
    "    8\t    Bag\n",
    "    9\t    Ankle boot\n",
    "    \n",
    " "
   ]
  },
  {
   "cell_type": "markdown",
   "metadata": {},
   "source": [
    "## Данные\n",
    "\n",
    "**Загружаем данные**"
   ]
  },
  {
   "cell_type": "code",
   "execution_count": 136,
   "metadata": {},
   "outputs": [],
   "source": [
    "import numpy as np\n",
    "import matplotlib.pyplot as plt\n",
    "from keras.models import Sequential\n",
    "from keras.layers import Conv2D, MaxPooling2D, Flatten, Dense"
   ]
  },
  {
   "cell_type": "code",
   "execution_count": 137,
   "metadata": {},
   "outputs": [],
   "source": [
    "from tensorflow.keras.datasets import fashion_mnist\n",
    "\n",
    "(x_train, y_train), (x_test, y_test) = fashion_mnist.load_data()"
   ]
  },
  {
   "cell_type": "markdown",
   "metadata": {},
   "source": [
    "## Визаулизация датасета\n",
    "\n",
    "**Используйте matplotlib чтобы показать пример картинки.**"
   ]
  },
  {
   "cell_type": "code",
   "execution_count": 138,
   "metadata": {},
   "outputs": [
    {
     "data": {
      "image/png": "[encoded data removed]",
      "text/plain": [
       "<Figure size 300x300 with 1 Axes>"
      ]
     },
     "metadata": {},
     "output_type": "display_data"
    }
   ],
   "source": [
    "random_index = np.random.randint(0, len(x_train))\n",
    "random_image = x_train[random_index]\n",
    "plt.figure(figsize=(3, 3))\n",
    "plt.imshow(random_image)  \n",
    "plt.show()"
   ]
  },
  {
   "cell_type": "markdown",
   "metadata": {},
   "source": [
    "## Предобработка\n",
    "\n",
    "**Нормализуйте данные X_train и X_test **"
   ]
  },
  {
   "cell_type": "code",
   "execution_count": 139,
   "metadata": {},
   "outputs": [],
   "source": [
    "mean = np.mean(x_train)\n",
    "std = np.std(x_train)\n",
    "\n",
    "# Нормализуем x_train и x_test\n",
    "x_train_normalized = (x_train - mean) / std\n",
    "x_test_normalized = (x_test - mean) / std"
   ]
  },
  {
   "cell_type": "markdown",
   "metadata": {},
   "source": [
    "**Измените форму массивов X_train и X_test так, чтобы они стали 4-мерными**\n",
    "batch_size x channels x H x W"
   ]
  },
  {
   "cell_type": "code",
   "execution_count": 140,
   "metadata": {},
   "outputs": [],
   "source": [
    "H, W, channels = 28, 28, 1\n",
    "\n",
    "# Изменяем форму массивов X_train и X_test\n",
    "X_train_reshaped = x_train_normalized.reshape(-1, channels, H, W)\n",
    "X_test_reshaped = x_test_normalized.reshape(-1, channels, H, W)"
   ]
  },
  {
   "cell_type": "markdown",
   "metadata": {},
   "source": [
    "**Преобразуйте  y_train и y_test в one_hot представления **"
   ]
  },
  {
   "cell_type": "code",
   "execution_count": 141,
   "metadata": {},
   "outputs": [],
   "source": [
    "from keras.utils import to_categorical\n",
    "\n",
    "# Преобразование y_train и y_test в one-hot представления\n",
    "num_classes = 10  \n",
    "\n",
    "y_train_one_hot = to_categorical(y_train, num_classes)\n",
    "y_test_one_hot = to_categorical(y_test, num_classes)"
   ]
  },
  {
   "cell_type": "markdown",
   "metadata": {},
   "source": [
    "## Создайте модель\n",
    "\n",
    "**Примерная структура модели. При выполнении задания вы можете поэкспериментировать со слоями**\n",
    "\n",
    "* Сверточный слой, 32 фильтра, размер ядра=(4,4)\n",
    "* Пулинг с pool_size = (2,2)\n",
    "\n",
    "* Выпрямляющий слой (Flatten)\n",
    "* Полносвязный слой (например 128 нейронов), RELU \n",
    "\n",
    "* Выходной полносвязный слой с 10 нейронами с softmax \n",
    "\n",
    "**При компиляции укажите loss='categorical_crossentropy', optimizer='rmsprop', metrics=['accuracy']**"
   ]
  },
  {
   "cell_type": "code",
   "execution_count": 142,
   "metadata": {},
   "outputs": [
    {
     "name": "stdout",
     "output_type": "stream",
     "text": [
      "Model: \"sequential_11\"\n",
      "_________________________________________________________________\n",
      " Layer (type)                Output Shape              Param #   \n",
      "=================================================================\n",
      " conv2d_11 (Conv2D)          (None, 25, 25, 32)        544       \n",
      "                                                                 \n",
      " max_pooling2d_11 (MaxPoolin  (None, 12, 12, 32)       0         \n",
      " g2D)                                                            \n",
      "                                                                 \n",
      " flatten_11 (Flatten)        (None, 4608)              0         \n",
      "                                                                 \n",
      " dense_22 (Dense)            (None, 128)               589952    \n",
      "                                                                 \n",
      " dense_23 (Dense)            (None, 10)                1290      \n",
      "                                                                 \n",
      "=================================================================\n",
      "Total params: 591,786\n",
      "Trainable params: 591,786\n",
      "Non-trainable params: 0\n",
      "_________________________________________________________________\n"
     ]
    }
   ],
   "source": [
    "\n",
    "#  Создаем модель\n",
    "model = Sequential()\n",
    "\n",
    "# 32 фильтра, размер ядра (4,4)\n",
    "model.add(Conv2D(32, (4, 4), activation='relu', input_shape=(28, 28, 1)))\n",
    "\n",
    "# cлой пулинга \n",
    "model.add(MaxPooling2D(pool_size=(2, 2)))\n",
    "\n",
    "# слой выравнивания\n",
    "model.add(Flatten())\n",
    "\n",
    "# полносвязный слой\n",
    "model.add(Dense(128, activation='relu'))\n",
    "\n",
    "# выходной слой \n",
    "model.add(Dense(10, activation='softmax'))\n",
    "\n",
    "\n",
    "model.compile(loss='categorical_crossentropy', optimizer='rmsprop', metrics=['accuracy'])\n",
    "model.summary()\n",
    "\n",
    "# Сохраним веса на слое Conv2d\n",
    "initial_filters = model.layers[0].get_weights()[0]\n"
   ]
  },
  {
   "cell_type": "markdown",
   "metadata": {},
   "source": [
    "### Тренировка модели\n",
    "**Тренируем модель на x_train. Число эпох выберите самостоятельно**"
   ]
  },
  {
   "cell_type": "code",
   "execution_count": 143,
   "metadata": {},
   "outputs": [
    {
     "name": "stdout",
     "output_type": "stream",
     "text": [
      "Epoch 1/10\n",
      "750/750 [==============================] - 12s 15ms/step - loss: 0.4306 - accuracy: 0.8464 - val_loss: 0.3516 - val_accuracy: 0.8749\n",
      "Epoch 2/10\n",
      "750/750 [==============================] - 12s 15ms/step - loss: 0.2869 - accuracy: 0.8963 - val_loss: 0.3131 - val_accuracy: 0.8809\n",
      "Epoch 3/10\n",
      "750/750 [==============================] - 11s 15ms/step - loss: 0.2393 - accuracy: 0.9128 - val_loss: 0.2700 - val_accuracy: 0.9062\n",
      "Epoch 4/10\n",
      "750/750 [==============================] - 11s 15ms/step - loss: 0.2072 - accuracy: 0.9242 - val_loss: 0.3084 - val_accuracy: 0.8909\n",
      "Epoch 5/10\n",
      "750/750 [==============================] - 12s 15ms/step - loss: 0.1805 - accuracy: 0.9348 - val_loss: 0.2816 - val_accuracy: 0.9040\n",
      "Epoch 6/10\n",
      "750/750 [==============================] - 12s 16ms/step - loss: 0.1585 - accuracy: 0.9417 - val_loss: 0.2984 - val_accuracy: 0.9028\n",
      "Epoch 7/10\n",
      "750/750 [==============================] - 12s 16ms/step - loss: 0.1380 - accuracy: 0.9496 - val_loss: 0.3085 - val_accuracy: 0.9016\n",
      "Epoch 8/10\n",
      "750/750 [==============================] - 13s 18ms/step - loss: 0.1215 - accuracy: 0.9564 - val_loss: 0.2957 - val_accuracy: 0.9090\n",
      "Epoch 9/10\n",
      "750/750 [==============================] - 13s 17ms/step - loss: 0.1071 - accuracy: 0.9613 - val_loss: 0.3182 - val_accuracy: 0.9073\n",
      "Epoch 10/10\n",
      "750/750 [==============================] - 13s 17ms/step - loss: 0.0941 - accuracy: 0.9656 - val_loss: 0.3344 - val_accuracy: 0.9059\n"
     ]
    }
   ],
   "source": [
    "num_epochs = 10\n",
    "history = model.fit(x_train_normalized, y_train_one_hot, epochs=num_epochs, batch_size=64, validation_split=0.2)\n"
   ]
  },
  {
   "cell_type": "markdown",
   "metadata": {},
   "source": [
    "### Оценка модели\n",
    "\n",
    "**Оцените модель по метрикам accuracy,precision,recall,f1-score на тестовой выборке x_test **"
   ]
  },
  {
   "cell_type": "code",
   "execution_count": 144,
   "metadata": {},
   "outputs": [
    {
     "name": "stdout",
     "output_type": "stream",
     "text": [
      "313/313 [==============================] - 1s 3ms/step\n",
      "Accuracy: 0.9044\n",
      "Precision: 0.9053182487501259\n",
      "Recall: 0.9044\n",
      "F1-Score: 0.9033289518362161\n"
     ]
    }
   ],
   "source": [
    "from sklearn.metrics import accuracy_score, precision_score, recall_score, f1_score\n",
    "\n",
    "# Получаем предсказанные метки для тестовых данных\n",
    "y_pred_one_hot = model.predict(x_test_normalized)\n",
    "\n",
    "# Преобразуем one-hot представление в обычные метки (индексы классов)\n",
    "y_pred = np.argmax(y_pred_one_hot, axis=1)\n",
    "y_true = np.argmax(y_test_one_hot, axis=1)\n",
    "\n",
    "\n",
    "accuracy = accuracy_score(y_true, y_pred)\n",
    "precision = precision_score(y_true, y_pred, average='weighted')\n",
    "recall = recall_score(y_true, y_pred, average='weighted')\n",
    "f1 = f1_score(y_true, y_pred, average='weighted')\n",
    "\n",
    "\n",
    "print(f'Accuracy: {accuracy}')\n",
    "print(f'Precision: {precision}')\n",
    "print(f'Recall: {recall}')\n",
    "print(f'F1-Score: {f1}')\n"
   ]
  },
  {
   "cell_type": "markdown",
   "metadata": {},
   "source": [
    "## Дополнительно\n",
    " \n",
    "* Отрисуйте фильтры на слое Conv2D, сравните до и после обучения модели"
   ]
  },
  {
   "cell_type": "code",
   "execution_count": 147,
   "metadata": {},
   "outputs": [],
   "source": [
    "def draw_filters(filters, title):\n",
    "    # filters , bias = model.layers[1].get_weights()\n",
    "    f_min, f_max = filters.min(), filters.max()\n",
    "    filters = (filters - f_min) / (f_max - f_min)\n",
    "    \n",
    "    plt.figure(figsize=(6, 6))\n",
    "    for i in range(filters.shape[-1]):\n",
    "        plt.subplot(8, 8, i + 1)\n",
    "        plt.imshow(filters[:, :, 0, i],cmap=\"gray\")\n",
    "        plt.axis('off')\n",
    "    plt.suptitle(title)\n",
    "    plt.show()"
   ]
  },
  {
   "cell_type": "code",
   "execution_count": 148,
   "metadata": {},
   "outputs": [
    {
     "data": {
      "image/png": "[encoded data removed]",
      "text/plain": [
       "<Figure size 600x600 with 32 Axes>"
      ]
     },
     "metadata": {},
     "output_type": "display_data"
    },
    {
     "data": {
      "image/png": "[encoded data removed]",
      "text/plain": [
       "<Figure size 600x600 with 32 Axes>"
      ]
     },
     "metadata": {},
     "output_type": "display_data"
    }
   ],
   "source": [
    "draw_filters(initial_filters, \"Фильтры на слое Conv2D до обучения\")\n",
    "\n",
    "trained_filters = model.layers[0].get_weights()[0]\n",
    "draw_filters(trained_filters, \"Фильтры на слое Conv2D после обучения\")"
   ]
  }
 ],
 "metadata": {
  "kernelspec": {
   "display_name": "Python 3",
   "language": "python",
   "name": "python3"
  },
  "language_info": {
   "codemirror_mode": {
    "name": "ipython",
    "version": 3
   },
   "file_extension": ".py",
   "mimetype": "text/x-python",
   "name": "python",
   "nbconvert_exporter": "python",
   "pygments_lexer": "ipython3",
   "version": "3.10.11"
  }
 },
 "nbformat": 4,
 "nbformat_minor": 2
}
